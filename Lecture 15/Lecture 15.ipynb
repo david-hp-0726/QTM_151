{
 "cells": [
  {
   "attachments": {},
   "cell_type": "markdown",
   "metadata": {},
   "source": [
    "# <span style=\"color:darkblue\"> Lecture 15 - Merging Data </span>\n",
    "\n",
    "<font size = \"5\">\n",
    "\n",
    "In the previous class we covered ...\n",
    "\n",
    "- Aggregate Statistics\n",
    "- Merge aggregate stats\n",
    "\n",
    "In this class we will cover ...\n",
    "\n",
    "- More database merging!\n",
    "- Emphasize importance of cleaning before merging\n",
    "- Database concatenation"
   ]
  },
  {
   "attachments": {},
   "cell_type": "markdown",
   "metadata": {},
   "source": [
    "# <span style=\"color:darkblue\"> I. Import Libraries and Data </span>\n"
   ]
  },
  {
   "attachments": {},
   "cell_type": "markdown",
   "metadata": {},
   "source": [
    "<font size = \"5\">\n",
    "Key libraries"
   ]
  },
  {
   "cell_type": "code",
   "execution_count": 1,
   "metadata": {},
   "outputs": [],
   "source": [
    "import numpy as np\n",
    "import pandas as pd\n",
    "import matplotlib.pyplot as plt"
   ]
  },
  {
   "attachments": {},
   "cell_type": "markdown",
   "metadata": {},
   "source": [
    "<font size = \"5\">\n",
    "\n",
    "Read dataset on car racing circuits\n",
    "\n",
    "- https://en.wikipedia.org/wiki/Formula_One <br>\n",
    "- [See Data Source](https://www.kaggle.com/datasets/rohanrao/formula-1-world-championship-1950-2020)"
   ]
  },
  {
   "cell_type": "code",
   "execution_count": 36,
   "metadata": {},
   "outputs": [],
   "source": [
    "results_raw  = pd.read_csv(\"data_raw/results.csv\")\n",
    "races_raw    = pd.read_csv(\"data_raw/races.csv\")\n",
    "circuits_raw = pd.read_csv(\"data_raw/circuits.csv\")"
   ]
  },
  {
   "attachments": {},
   "cell_type": "markdown",
   "metadata": {},
   "source": [
    "<font size = \"5\">\n",
    "\n",
    "Multi-file datasets can be visualized with an ...\n",
    "\n",
    "- \"Entity Relationship Diagram\" (ERD)\n",
    "- How the identifiers in each table are connected\n",
    "- Complement to the \"codebook\"\n",
    "\n",
    "<img src=\"figures/erd_f1_simple.png\" alt=\"drawing\" width=\"600\"/>\n"
   ]
  },
  {
   "attachments": {},
   "cell_type": "markdown",
   "metadata": {},
   "source": [
    "<font size = \"5\">\n",
    "\n",
    "Start by opening datasets!\n",
    "\n",
    "- Check columns with similar names"
   ]
  },
  {
   "cell_type": "code",
   "execution_count": 3,
   "metadata": {},
   "outputs": [],
   "source": [
    "# We extract all the unique values in races_raw[\"name\"] and circuits_raw[\"name\"]\n",
    "# We use \"sort_values()\" to make it easier to compare the variables\n",
    "# The \"codebook/f1_codebook.pdf\" file shows that the content is indeed different\n",
    "\n",
    "unique_data_races    = pd.unique(races_raw[\"name\"].sort_values())\n",
    "unique_data_circuits = pd.unique(circuits_raw[\"name\"].sort_values())\n"
   ]
  },
  {
   "attachments": {},
   "cell_type": "markdown",
   "metadata": {},
   "source": [
    "# <span style=\"color:darkblue\"> II. Dictionaries + Renaming </span>"
   ]
  },
  {
   "attachments": {},
   "cell_type": "markdown",
   "metadata": {},
   "source": [
    "<font size = \"5\">\n",
    "\n",
    "A dictionary is another way to store data. \n",
    "\n",
    "- Defined with curly brackets \"{...}\"\n",
    "- Different fields are separated by a comma\n",
    "- Assign values to a field with a colon \":\""
   ]
  },
  {
   "attachments": {},
   "cell_type": "markdown",
   "metadata": {},
   "source": [
    "<font size = \"5\">\n",
    "\n",
    "Dictionaries + Pandas"
   ]
  },
  {
   "cell_type": "code",
   "execution_count": 4,
   "metadata": {},
   "outputs": [
    {
     "data": {
      "text/html": [
       "<div>\n",
       "<style scoped>\n",
       "    .dataframe tbody tr th:only-of-type {\n",
       "        vertical-align: middle;\n",
       "    }\n",
       "\n",
       "    .dataframe tbody tr th {\n",
       "        vertical-align: top;\n",
       "    }\n",
       "\n",
       "    .dataframe thead th {\n",
       "        text-align: right;\n",
       "    }\n",
       "</style>\n",
       "<table border=\"1\" class=\"dataframe\">\n",
       "  <thead>\n",
       "    <tr style=\"text-align: right;\">\n",
       "      <th></th>\n",
       "      <th>car_model</th>\n",
       "      <th>year</th>\n",
       "    </tr>\n",
       "  </thead>\n",
       "  <tbody>\n",
       "    <tr>\n",
       "      <th>0</th>\n",
       "      <td>Ferrari</td>\n",
       "      <td>2018</td>\n",
       "    </tr>\n",
       "    <tr>\n",
       "      <th>1</th>\n",
       "      <td>Tesla</td>\n",
       "      <td>2023</td>\n",
       "    </tr>\n",
       "    <tr>\n",
       "      <th>2</th>\n",
       "      <td>BMW</td>\n",
       "      <td>2022</td>\n",
       "    </tr>\n",
       "  </tbody>\n",
       "</table>\n",
       "</div>"
      ],
      "text/plain": [
       "  car_model  year\n",
       "0   Ferrari  2018\n",
       "1     Tesla  2023\n",
       "2       BMW  2022"
      ]
     },
     "execution_count": 4,
     "metadata": {},
     "output_type": "execute_result"
    }
   ],
   "source": [
    "# This is an example of a pandas data frame created from a dictionary\n",
    "# This example illustrates the basic syntax of a dictionary\n",
    "\n",
    "car_dictionary = {\"car_model\": [\"Ferrari\",\"Tesla\",\"BMW\"],\n",
    "                  \"year\":      [\"2018\",\"2023\",\"2022\"] }\n",
    "\n",
    "pd.DataFrame(car_dictionary)\n"
   ]
  },
  {
   "attachments": {},
   "cell_type": "markdown",
   "metadata": {},
   "source": [
    "<font size = \"5\">\n",
    "\n",
    "Rename columns with dictionaries\n",
    "\n",
    "``` {\"old_name\": \"new_name\"} ```"
   ]
  },
  {
   "cell_type": "code",
   "execution_count": 51,
   "metadata": {},
   "outputs": [],
   "source": [
    "# We first define the dictionary\n",
    "# Change the pipe \".rename(...)\" to rename the columns\n",
    "# Dictionaries can flexibly accommodate single values or list after \":\"\n",
    "\n",
    "dict_rename_circuits = {\"name\": \"circuit_name\"}\n",
    "circuits = circuits_raw.rename(columns = dict_rename_circuits)\n"
   ]
  },
  {
   "attachments": {},
   "cell_type": "markdown",
   "metadata": {},
   "source": [
    "<font size = \"5\">\n",
    "Check that \".rename()\" worked"
   ]
  },
  {
   "cell_type": "code",
   "execution_count": 16,
   "metadata": {},
   "outputs": [
    {
     "name": "stdout",
     "output_type": "stream",
     "text": [
      "Old List:\n",
      "['circuitId' 'circuitRef' 'name' 'location' 'country' 'lat' 'lng' 'alt'\n",
      " 'url']\n",
      "\n",
      "New List:\n",
      "['circuitId' 'circuitRef' 'circuit_name' 'location' 'country' 'lat' 'lng'\n",
      " 'alt' 'url']\n"
     ]
    }
   ],
   "source": [
    "# Extract the column names of the \"raw\" and \"clean\" data\n",
    "\n",
    "print(\"Old List:\")\n",
    "print(circuits_raw.columns.values)\n",
    "print(\"\")\n",
    "print(\"New List:\")\n",
    "print(circuits.columns.values)\n"
   ]
  },
  {
   "attachments": {},
   "cell_type": "markdown",
   "metadata": {},
   "source": [
    "<font size = 5>\n",
    "\n",
    "Try it yourself!\n",
    "\n",
    "- Create a dictionary to rename \"name\" to \"race_name\"\n",
    "- Rename this column in the \"races_raw\" dataset\n",
    "- Store the output in a new dataset called \"races\""
   ]
  },
  {
   "cell_type": "code",
   "execution_count": 31,
   "metadata": {},
   "outputs": [
    {
     "name": "stdout",
     "output_type": "stream",
     "text": [
      "Index(['raceId', 'year', 'round', 'circuitId', 'race_name', 'date', 'time',\n",
      "       'url', 'fp1_date', 'fp1_time', 'fp2_date', 'fp2_time', 'fp3_date',\n",
      "       'fp3_time', 'quali_date', 'quali_time', 'sprint_date', 'sprint_time'],\n",
      "      dtype='object')\n"
     ]
    }
   ],
   "source": [
    "# Write your own code\n",
    "dict_race_rename = {\"name\": \"race_name\"}\n",
    "races_raw = races_raw.rename(columns = dict_race_rename)\n",
    "print(races_raw.columns)\n",
    "\n"
   ]
  },
  {
   "attachments": {},
   "cell_type": "markdown",
   "metadata": {},
   "source": [
    "# <span style=\"color:darkblue\"> II. Merging </span>\n"
   ]
  },
  {
   "attachments": {},
   "cell_type": "markdown",
   "metadata": {},
   "source": [
    "<font size = \"5\">\n",
    "\n",
    "Extracting specific columns from dataset"
   ]
  },
  {
   "cell_type": "code",
   "execution_count": 8,
   "metadata": {},
   "outputs": [
    {
     "data": {
      "text/html": [
       "<div>\n",
       "<style scoped>\n",
       "    .dataframe tbody tr th:only-of-type {\n",
       "        vertical-align: middle;\n",
       "    }\n",
       "\n",
       "    .dataframe tbody tr th {\n",
       "        vertical-align: top;\n",
       "    }\n",
       "\n",
       "    .dataframe thead th {\n",
       "        text-align: right;\n",
       "    }\n",
       "</style>\n",
       "<table border=\"1\" class=\"dataframe\">\n",
       "  <thead>\n",
       "    <tr style=\"text-align: right;\">\n",
       "      <th></th>\n",
       "      <th>circuitId</th>\n",
       "      <th>circuit_name</th>\n",
       "    </tr>\n",
       "  </thead>\n",
       "  <tbody>\n",
       "    <tr>\n",
       "      <th>0</th>\n",
       "      <td>1</td>\n",
       "      <td>Albert Park Grand Prix Circuit</td>\n",
       "    </tr>\n",
       "    <tr>\n",
       "      <th>1</th>\n",
       "      <td>2</td>\n",
       "      <td>Sepang International Circuit</td>\n",
       "    </tr>\n",
       "    <tr>\n",
       "      <th>2</th>\n",
       "      <td>3</td>\n",
       "      <td>Bahrain International Circuit</td>\n",
       "    </tr>\n",
       "    <tr>\n",
       "      <th>3</th>\n",
       "      <td>4</td>\n",
       "      <td>Circuit de Barcelona-Catalunya</td>\n",
       "    </tr>\n",
       "    <tr>\n",
       "      <th>4</th>\n",
       "      <td>5</td>\n",
       "      <td>Istanbul Park</td>\n",
       "    </tr>\n",
       "    <tr>\n",
       "      <th>...</th>\n",
       "      <td>...</td>\n",
       "      <td>...</td>\n",
       "    </tr>\n",
       "    <tr>\n",
       "      <th>72</th>\n",
       "      <td>75</td>\n",
       "      <td>Autódromo Internacional do Algarve</td>\n",
       "    </tr>\n",
       "    <tr>\n",
       "      <th>73</th>\n",
       "      <td>76</td>\n",
       "      <td>Autodromo Internazionale del Mugello</td>\n",
       "    </tr>\n",
       "    <tr>\n",
       "      <th>74</th>\n",
       "      <td>77</td>\n",
       "      <td>Jeddah Corniche Circuit</td>\n",
       "    </tr>\n",
       "    <tr>\n",
       "      <th>75</th>\n",
       "      <td>78</td>\n",
       "      <td>Losail International Circuit</td>\n",
       "    </tr>\n",
       "    <tr>\n",
       "      <th>76</th>\n",
       "      <td>79</td>\n",
       "      <td>Miami International Autodrome</td>\n",
       "    </tr>\n",
       "  </tbody>\n",
       "</table>\n",
       "<p>77 rows × 2 columns</p>\n",
       "</div>"
      ],
      "text/plain": [
       "    circuitId                          circuit_name\n",
       "0           1        Albert Park Grand Prix Circuit\n",
       "1           2          Sepang International Circuit\n",
       "2           3         Bahrain International Circuit\n",
       "3           4        Circuit de Barcelona-Catalunya\n",
       "4           5                         Istanbul Park\n",
       "..        ...                                   ...\n",
       "72         75    Autódromo Internacional do Algarve\n",
       "73         76  Autodromo Internazionale del Mugello\n",
       "74         77               Jeddah Corniche Circuit\n",
       "75         78          Losail International Circuit\n",
       "76         79         Miami International Autodrome\n",
       "\n",
       "[77 rows x 2 columns]"
      ]
     },
     "execution_count": 8,
     "metadata": {},
     "output_type": "execute_result"
    }
   ],
   "source": [
    "circuits[[\"circuitId\",\"circuit_name\"]]"
   ]
  },
  {
   "attachments": {},
   "cell_type": "markdown",
   "metadata": {},
   "source": [
    "<font size = \"5\">\n",
    "\n",
    "Merge datasets\n",
    "\n",
    "<img src=\"figures/merge_goal.png\" alt=\"drawing\" width=\"500\"/>\n",
    "\n",
    "\n",
    "```pd.merge(data1,data2,on,how)```\n",
    "\n",
    "- Strive to merge only specific columns of data2\n",
    "- Avoid merging all columns\n",
    "- Keeping it simple gives you more control over the output"
   ]
  },
  {
   "cell_type": "code",
   "execution_count": 9,
   "metadata": {},
   "outputs": [],
   "source": [
    "# The \"pd.merge()\" command combines the information from both datasets\n",
    "# The first argument is the \"primary\" datasets\n",
    "# The second argument is the \"secondary\" dataset (much include the \"on\" column)\n",
    "# The \"on\" is the common variable that is used for merging\n",
    "# how = \"left\" tells Python that the left dataset is the primary one\n",
    "\n",
    "races_merge = pd.merge(races_raw,\n",
    "                       circuits[[\"circuitId\",\"circuit_name\"]],\n",
    "                       on = \"circuitId\",\n",
    "                       how = \"left\")"
   ]
  },
  {
   "cell_type": "code",
   "execution_count": 10,
   "metadata": {},
   "outputs": [],
   "source": [
    "# Another example of merging\n",
    "\n",
    "results_merge = pd.merge(results_raw,\n",
    "                         races_raw[[\"raceId\",\"date\"]],\n",
    "                         on = \"raceId\",\n",
    "                         how = \"left\")"
   ]
  },
  {
   "attachments": {},
   "cell_type": "markdown",
   "metadata": {},
   "source": [
    "<font size = \"5\">\n",
    "<span style=\"color:red\"> Common pitfall: </span> What happens if you don't rename?"
   ]
  },
  {
   "cell_type": "code",
   "execution_count": 37,
   "metadata": {},
   "outputs": [
    {
     "name": "stdout",
     "output_type": "stream",
     "text": [
      "['raceId' 'year' 'round' 'circuitId' 'name_x' 'date' 'time' 'url'\n",
      " 'fp1_date' 'fp1_time' 'fp2_date' 'fp2_time' 'fp3_date' 'fp3_time'\n",
      " 'quali_date' 'quali_time' 'sprint_date' 'sprint_time' 'name_y']\n"
     ]
    }
   ],
   "source": [
    "# The following code merges the raw data\n",
    "# which has the \"name\" column in \"races_raw\" and \"circuits_raw\"\n",
    "\n",
    "races_merge_pitfall = pd.merge(races_raw,\n",
    "                               circuits_raw[[\"circuitId\",\"name\"]],\n",
    "                               on = \"circuitId\",\n",
    "                               how = \"left\")\n",
    "\n",
    "# Python will internally rename the columns \"name_x\" (for the left dataset)\n",
    "# and \"name_y\" (for the right dataset)\n",
    "\n",
    "print(races_merge_pitfall.columns.values)\n"
   ]
  },
  {
   "attachments": {},
   "cell_type": "markdown",
   "metadata": {},
   "source": [
    "<font size = \"5\">\n",
    "\n",
    "Try it yourself!\n",
    "\n",
    "- Rename the columns \"name_x\" and \"name_y\" <br>\n",
    "in the dataset \"races_merge_pitfall\" to <br>\n",
    " \"race_name\" and \"circuit_name\"\n",
    "\n",
    "$\\quad$ HINT: Create a dictionary and use \"pd.rename()\""
   ]
  },
  {
   "cell_type": "code",
   "execution_count": 58,
   "metadata": {},
   "outputs": [
    {
     "name": "stdout",
     "output_type": "stream",
     "text": [
      "['raceId' 'year' 'round' 'circuitId' 'race_name' 'date' 'time' 'url'\n",
      " 'fp1_date' 'fp1_time' 'fp2_date' 'fp2_time' 'fp3_date' 'fp3_time'\n",
      " 'quali_date' 'quali_time' 'sprint_date' 'sprint_time' 'circuit_name']\n"
     ]
    }
   ],
   "source": [
    "# Write your own code\n",
    "dict_rename_pitfall = {\"name_x\": \"race_name\",\n",
    "                       \"name_y\": \"circuit_name\"}\n",
    "races_merge_pitfall = races_merge_pitfall.rename(columns = dict_rename_pitfall)\n",
    "print(races_merge_pitfall.columns.values)\n",
    "\n",
    "\n"
   ]
  },
  {
   "attachments": {},
   "cell_type": "markdown",
   "metadata": {},
   "source": [
    "<font size = \"5\">\n",
    "\n",
    "Try it yourself!\n",
    "\n",
    "- Merge the column \"alt\", \"lng\", and \"lat\" into the races data <br>\n",
    "using \"pd.merge()"
   ]
  },
  {
   "cell_type": "code",
   "execution_count": 164,
   "metadata": {},
   "outputs": [
    {
     "name": "stderr",
     "output_type": "stream",
     "text": [
      "/Users/hp/opt/anaconda3/lib/python3.8/site-packages/pandas/core/frame.py:4441: SettingWithCopyWarning: \n",
      "A value is trying to be set on a copy of a slice from a DataFrame\n",
      "\n",
      "See the caveats in the documentation: https://pandas.pydata.org/pandas-docs/stable/user_guide/indexing.html#returning-a-view-versus-a-copy\n",
      "  return super().rename(\n"
     ]
    },
    {
     "data": {
      "text/html": [
       "<div>\n",
       "<style scoped>\n",
       "    .dataframe tbody tr th:only-of-type {\n",
       "        vertical-align: middle;\n",
       "    }\n",
       "\n",
       "    .dataframe tbody tr th {\n",
       "        vertical-align: top;\n",
       "    }\n",
       "\n",
       "    .dataframe thead th {\n",
       "        text-align: right;\n",
       "    }\n",
       "</style>\n",
       "<table border=\"1\" class=\"dataframe\">\n",
       "  <thead>\n",
       "    <tr style=\"text-align: right;\">\n",
       "      <th></th>\n",
       "      <th>raceId</th>\n",
       "      <th>year</th>\n",
       "      <th>round</th>\n",
       "      <th>circuitId</th>\n",
       "      <th>name</th>\n",
       "      <th>date</th>\n",
       "      <th>time</th>\n",
       "      <th>url</th>\n",
       "      <th>fp1_date</th>\n",
       "      <th>fp1_time</th>\n",
       "      <th>...</th>\n",
       "      <th>fp3_time</th>\n",
       "      <th>quali_date</th>\n",
       "      <th>quali_time</th>\n",
       "      <th>sprint_date</th>\n",
       "      <th>sprint_time</th>\n",
       "      <th>circuitId_temp</th>\n",
       "      <th>alt</th>\n",
       "      <th>lng</th>\n",
       "      <th>lat</th>\n",
       "      <th>_merge</th>\n",
       "    </tr>\n",
       "  </thead>\n",
       "  <tbody>\n",
       "    <tr>\n",
       "      <th>0</th>\n",
       "      <td>1</td>\n",
       "      <td>2009</td>\n",
       "      <td>1</td>\n",
       "      <td>1</td>\n",
       "      <td>Australian Grand Prix</td>\n",
       "      <td>2009-03-29</td>\n",
       "      <td>06:00:00</td>\n",
       "      <td>http://en.wikipedia.org/wiki/2009_Australian_G...</td>\n",
       "      <td>\\N</td>\n",
       "      <td>\\N</td>\n",
       "      <td>...</td>\n",
       "      <td>\\N</td>\n",
       "      <td>\\N</td>\n",
       "      <td>\\N</td>\n",
       "      <td>\\N</td>\n",
       "      <td>\\N</td>\n",
       "      <td>1</td>\n",
       "      <td>10</td>\n",
       "      <td>144.9680</td>\n",
       "      <td>-37.8497</td>\n",
       "      <td>both</td>\n",
       "    </tr>\n",
       "    <tr>\n",
       "      <th>1</th>\n",
       "      <td>18</td>\n",
       "      <td>2008</td>\n",
       "      <td>1</td>\n",
       "      <td>1</td>\n",
       "      <td>Australian Grand Prix</td>\n",
       "      <td>2008-03-16</td>\n",
       "      <td>04:30:00</td>\n",
       "      <td>http://en.wikipedia.org/wiki/2008_Australian_G...</td>\n",
       "      <td>\\N</td>\n",
       "      <td>\\N</td>\n",
       "      <td>...</td>\n",
       "      <td>\\N</td>\n",
       "      <td>\\N</td>\n",
       "      <td>\\N</td>\n",
       "      <td>\\N</td>\n",
       "      <td>\\N</td>\n",
       "      <td>1</td>\n",
       "      <td>10</td>\n",
       "      <td>144.9680</td>\n",
       "      <td>-37.8497</td>\n",
       "      <td>both</td>\n",
       "    </tr>\n",
       "    <tr>\n",
       "      <th>2</th>\n",
       "      <td>36</td>\n",
       "      <td>2007</td>\n",
       "      <td>1</td>\n",
       "      <td>1</td>\n",
       "      <td>Australian Grand Prix</td>\n",
       "      <td>2007-03-18</td>\n",
       "      <td>03:00:00</td>\n",
       "      <td>http://en.wikipedia.org/wiki/2007_Australian_G...</td>\n",
       "      <td>\\N</td>\n",
       "      <td>\\N</td>\n",
       "      <td>...</td>\n",
       "      <td>\\N</td>\n",
       "      <td>\\N</td>\n",
       "      <td>\\N</td>\n",
       "      <td>\\N</td>\n",
       "      <td>\\N</td>\n",
       "      <td>1</td>\n",
       "      <td>10</td>\n",
       "      <td>144.9680</td>\n",
       "      <td>-37.8497</td>\n",
       "      <td>both</td>\n",
       "    </tr>\n",
       "    <tr>\n",
       "      <th>3</th>\n",
       "      <td>55</td>\n",
       "      <td>2006</td>\n",
       "      <td>3</td>\n",
       "      <td>1</td>\n",
       "      <td>Australian Grand Prix</td>\n",
       "      <td>2006-04-02</td>\n",
       "      <td>14:00:00</td>\n",
       "      <td>http://en.wikipedia.org/wiki/2006_Australian_G...</td>\n",
       "      <td>\\N</td>\n",
       "      <td>\\N</td>\n",
       "      <td>...</td>\n",
       "      <td>\\N</td>\n",
       "      <td>\\N</td>\n",
       "      <td>\\N</td>\n",
       "      <td>\\N</td>\n",
       "      <td>\\N</td>\n",
       "      <td>1</td>\n",
       "      <td>10</td>\n",
       "      <td>144.9680</td>\n",
       "      <td>-37.8497</td>\n",
       "      <td>both</td>\n",
       "    </tr>\n",
       "    <tr>\n",
       "      <th>4</th>\n",
       "      <td>71</td>\n",
       "      <td>2005</td>\n",
       "      <td>1</td>\n",
       "      <td>1</td>\n",
       "      <td>Australian Grand Prix</td>\n",
       "      <td>2005-03-06</td>\n",
       "      <td>14:00:00</td>\n",
       "      <td>http://en.wikipedia.org/wiki/2005_Australian_G...</td>\n",
       "      <td>\\N</td>\n",
       "      <td>\\N</td>\n",
       "      <td>...</td>\n",
       "      <td>\\N</td>\n",
       "      <td>\\N</td>\n",
       "      <td>\\N</td>\n",
       "      <td>\\N</td>\n",
       "      <td>\\N</td>\n",
       "      <td>1</td>\n",
       "      <td>10</td>\n",
       "      <td>144.9680</td>\n",
       "      <td>-37.8497</td>\n",
       "      <td>both</td>\n",
       "    </tr>\n",
       "    <tr>\n",
       "      <th>...</th>\n",
       "      <td>...</td>\n",
       "      <td>...</td>\n",
       "      <td>...</td>\n",
       "      <td>...</td>\n",
       "      <td>...</td>\n",
       "      <td>...</td>\n",
       "      <td>...</td>\n",
       "      <td>...</td>\n",
       "      <td>...</td>\n",
       "      <td>...</td>\n",
       "      <td>...</td>\n",
       "      <td>...</td>\n",
       "      <td>...</td>\n",
       "      <td>...</td>\n",
       "      <td>...</td>\n",
       "      <td>...</td>\n",
       "      <td>...</td>\n",
       "      <td>...</td>\n",
       "      <td>...</td>\n",
       "      <td>...</td>\n",
       "      <td>...</td>\n",
       "    </tr>\n",
       "    <tr>\n",
       "      <th>1097</th>\n",
       "      <td>1075</td>\n",
       "      <td>2022</td>\n",
       "      <td>2</td>\n",
       "      <td>77</td>\n",
       "      <td>Saudi Arabian Grand Prix</td>\n",
       "      <td>2022-03-27</td>\n",
       "      <td>17:00:00</td>\n",
       "      <td>http://en.wikipedia.org/wiki/2022_Saudi_Arabia...</td>\n",
       "      <td>2022-03-25</td>\n",
       "      <td>14:00:00</td>\n",
       "      <td>...</td>\n",
       "      <td>14:00:00</td>\n",
       "      <td>2022-03-26</td>\n",
       "      <td>17:00:00</td>\n",
       "      <td>\\N</td>\n",
       "      <td>\\N</td>\n",
       "      <td>77</td>\n",
       "      <td>15</td>\n",
       "      <td>39.1044</td>\n",
       "      <td>21.6319</td>\n",
       "      <td>both</td>\n",
       "    </tr>\n",
       "    <tr>\n",
       "      <th>1098</th>\n",
       "      <td>1099</td>\n",
       "      <td>2023</td>\n",
       "      <td>2</td>\n",
       "      <td>77</td>\n",
       "      <td>Saudi Arabian Grand Prix</td>\n",
       "      <td>2023-03-19</td>\n",
       "      <td>17:00:00</td>\n",
       "      <td>https://en.wikipedia.org/wiki/2023_Saudi_Arabi...</td>\n",
       "      <td>2023-03-17</td>\n",
       "      <td>13:30:00</td>\n",
       "      <td>...</td>\n",
       "      <td>13:30:00</td>\n",
       "      <td>2023-03-18</td>\n",
       "      <td>17:00:00</td>\n",
       "      <td>\\N</td>\n",
       "      <td>\\N</td>\n",
       "      <td>77</td>\n",
       "      <td>15</td>\n",
       "      <td>39.1044</td>\n",
       "      <td>21.6319</td>\n",
       "      <td>both</td>\n",
       "    </tr>\n",
       "    <tr>\n",
       "      <th>1099</th>\n",
       "      <td>1078</td>\n",
       "      <td>2022</td>\n",
       "      <td>5</td>\n",
       "      <td>79</td>\n",
       "      <td>Miami Grand Prix</td>\n",
       "      <td>2022-05-08</td>\n",
       "      <td>19:30:00</td>\n",
       "      <td>http://en.wikipedia.org/wiki/2022_Miami_Grand_...</td>\n",
       "      <td>2022-05-06</td>\n",
       "      <td>18:30:00</td>\n",
       "      <td>...</td>\n",
       "      <td>17:00:00</td>\n",
       "      <td>2022-05-07</td>\n",
       "      <td>20:00:00</td>\n",
       "      <td>\\N</td>\n",
       "      <td>\\N</td>\n",
       "      <td>79</td>\n",
       "      <td>\\N</td>\n",
       "      <td>-80.2389</td>\n",
       "      <td>25.9581</td>\n",
       "      <td>both</td>\n",
       "    </tr>\n",
       "    <tr>\n",
       "      <th>1100</th>\n",
       "      <td>1102</td>\n",
       "      <td>2023</td>\n",
       "      <td>5</td>\n",
       "      <td>79</td>\n",
       "      <td>Miami Grand Prix</td>\n",
       "      <td>2023-05-07</td>\n",
       "      <td>19:30:00</td>\n",
       "      <td>https://en.wikipedia.org/wiki/2023_Miami_Grand...</td>\n",
       "      <td>2023-05-05</td>\n",
       "      <td>17:30:00</td>\n",
       "      <td>...</td>\n",
       "      <td>16:30:00</td>\n",
       "      <td>2023-05-06</td>\n",
       "      <td>20:00:00</td>\n",
       "      <td>\\N</td>\n",
       "      <td>\\N</td>\n",
       "      <td>79</td>\n",
       "      <td>\\N</td>\n",
       "      <td>-80.2389</td>\n",
       "      <td>25.9581</td>\n",
       "      <td>both</td>\n",
       "    </tr>\n",
       "    <tr>\n",
       "      <th>1101</th>\n",
       "      <td>1119</td>\n",
       "      <td>2023</td>\n",
       "      <td>22</td>\n",
       "      <td>80</td>\n",
       "      <td>Las Vegas Grand Prix</td>\n",
       "      <td>2023-11-19</td>\n",
       "      <td>06:00:00</td>\n",
       "      <td>https://en.wikipedia.org/wiki/2023_Las_Vegas_G...</td>\n",
       "      <td>2023-11-17</td>\n",
       "      <td>04:30:00</td>\n",
       "      <td>...</td>\n",
       "      <td>04:30:00</td>\n",
       "      <td>2023-11-18</td>\n",
       "      <td>08:00:00</td>\n",
       "      <td>\\N</td>\n",
       "      <td>\\N</td>\n",
       "      <td>80</td>\n",
       "      <td>\\N</td>\n",
       "      <td>-115.1730</td>\n",
       "      <td>36.1147</td>\n",
       "      <td>both</td>\n",
       "    </tr>\n",
       "  </tbody>\n",
       "</table>\n",
       "<p>1102 rows × 23 columns</p>\n",
       "</div>"
      ],
      "text/plain": [
       "      raceId  year  round  circuitId                      name        date  \\\n",
       "0          1  2009      1          1     Australian Grand Prix  2009-03-29   \n",
       "1         18  2008      1          1     Australian Grand Prix  2008-03-16   \n",
       "2         36  2007      1          1     Australian Grand Prix  2007-03-18   \n",
       "3         55  2006      3          1     Australian Grand Prix  2006-04-02   \n",
       "4         71  2005      1          1     Australian Grand Prix  2005-03-06   \n",
       "...      ...   ...    ...        ...                       ...         ...   \n",
       "1097    1075  2022      2         77  Saudi Arabian Grand Prix  2022-03-27   \n",
       "1098    1099  2023      2         77  Saudi Arabian Grand Prix  2023-03-19   \n",
       "1099    1078  2022      5         79          Miami Grand Prix  2022-05-08   \n",
       "1100    1102  2023      5         79          Miami Grand Prix  2023-05-07   \n",
       "1101    1119  2023     22         80      Las Vegas Grand Prix  2023-11-19   \n",
       "\n",
       "          time                                                url    fp1_date  \\\n",
       "0     06:00:00  http://en.wikipedia.org/wiki/2009_Australian_G...          \\N   \n",
       "1     04:30:00  http://en.wikipedia.org/wiki/2008_Australian_G...          \\N   \n",
       "2     03:00:00  http://en.wikipedia.org/wiki/2007_Australian_G...          \\N   \n",
       "3     14:00:00  http://en.wikipedia.org/wiki/2006_Australian_G...          \\N   \n",
       "4     14:00:00  http://en.wikipedia.org/wiki/2005_Australian_G...          \\N   \n",
       "...        ...                                                ...         ...   \n",
       "1097  17:00:00  http://en.wikipedia.org/wiki/2022_Saudi_Arabia...  2022-03-25   \n",
       "1098  17:00:00  https://en.wikipedia.org/wiki/2023_Saudi_Arabi...  2023-03-17   \n",
       "1099  19:30:00  http://en.wikipedia.org/wiki/2022_Miami_Grand_...  2022-05-06   \n",
       "1100  19:30:00  https://en.wikipedia.org/wiki/2023_Miami_Grand...  2023-05-05   \n",
       "1101  06:00:00  https://en.wikipedia.org/wiki/2023_Las_Vegas_G...  2023-11-17   \n",
       "\n",
       "      fp1_time  ...  fp3_time  quali_date quali_time sprint_date sprint_time  \\\n",
       "0           \\N  ...        \\N          \\N         \\N          \\N          \\N   \n",
       "1           \\N  ...        \\N          \\N         \\N          \\N          \\N   \n",
       "2           \\N  ...        \\N          \\N         \\N          \\N          \\N   \n",
       "3           \\N  ...        \\N          \\N         \\N          \\N          \\N   \n",
       "4           \\N  ...        \\N          \\N         \\N          \\N          \\N   \n",
       "...        ...  ...       ...         ...        ...         ...         ...   \n",
       "1097  14:00:00  ...  14:00:00  2022-03-26   17:00:00          \\N          \\N   \n",
       "1098  13:30:00  ...  13:30:00  2023-03-18   17:00:00          \\N          \\N   \n",
       "1099  18:30:00  ...  17:00:00  2022-05-07   20:00:00          \\N          \\N   \n",
       "1100  17:30:00  ...  16:30:00  2023-05-06   20:00:00          \\N          \\N   \n",
       "1101  04:30:00  ...  04:30:00  2023-11-18   08:00:00          \\N          \\N   \n",
       "\n",
       "     circuitId_temp alt       lng      lat _merge  \n",
       "0                 1  10  144.9680 -37.8497   both  \n",
       "1                 1  10  144.9680 -37.8497   both  \n",
       "2                 1  10  144.9680 -37.8497   both  \n",
       "3                 1  10  144.9680 -37.8497   both  \n",
       "4                 1  10  144.9680 -37.8497   both  \n",
       "...             ...  ..       ...      ...    ...  \n",
       "1097             77  15   39.1044  21.6319   both  \n",
       "1098             77  15   39.1044  21.6319   both  \n",
       "1099             79  \\N  -80.2389  25.9581   both  \n",
       "1100             79  \\N  -80.2389  25.9581   both  \n",
       "1101             80  \\N -115.1730  36.1147   both  \n",
       "\n",
       "[1102 rows x 23 columns]"
      ]
     },
     "execution_count": 164,
     "metadata": {},
     "output_type": "execute_result"
    }
   ],
   "source": [
    "# Write your own code\n",
    "selected_columns = circuits_raw[[\"circuitId\", \"alt\", \"lng\", \"lat\"]]\n",
    "selected_columns.rename(columns = {\"circuitId\": \"circuitId_temp\"}, inplace = True)\n",
    "races_raw.merge(selected_columns, left_on = \"circuitId\", right_on = \"circuitId_temp\", indicator = True)"
   ]
  },
  {
   "cell_type": "code",
   "execution_count": null,
   "metadata": {},
   "outputs": [],
   "source": []
  },
  {
   "attachments": {},
   "cell_type": "markdown",
   "metadata": {},
   "source": [
    "# <span style=\"color:darkblue\"> III. Concat </span>\n"
   ]
  },
  {
   "attachments": {},
   "cell_type": "markdown",
   "metadata": {},
   "source": [
    "<font size = \"5\">\n",
    "\n",
    "Use \".query()\" to split data into different parts"
   ]
  },
  {
   "cell_type": "code",
   "execution_count": 52,
   "metadata": {},
   "outputs": [],
   "source": [
    "circuits_spain = circuits.query('country == \"Spain\"')\n",
    "circuits_usa   = circuits.query('country == \"United States\" | country == \"USA\"')\n",
    "circuits_malaysia = circuits.query('country == \"Malaysia\"')"
   ]
  },
  {
   "attachments": {},
   "cell_type": "markdown",
   "metadata": {},
   "source": [
    "<font size = \"5\">\n",
    "\n",
    "Cocatenate data back together\n",
    "\n",
    "- Useful if there are datasets split by geography...\n",
    "- year, or other subgroup"
   ]
  },
  {
   "cell_type": "code",
   "execution_count": 31,
   "metadata": {},
   "outputs": [],
   "source": [
    "# Works best if columns are identical\n",
    "# There are also other advanced options if they are not \n",
    "# https://pandas.pydata.org/docs/reference/api/pandas.concat.html\n",
    "\n",
    "circuits_concat = pd.concat([circuits_spain,circuits_usa])\n"
   ]
  },
  {
   "attachments": {},
   "cell_type": "markdown",
   "metadata": {},
   "source": [
    "<font size = \"5\">\n",
    "\n",
    "Try it yourself!\n",
    "\n",
    "- Concatenate the USA and Malaysia datasets\n",
    "\n"
   ]
  },
  {
   "cell_type": "code",
   "execution_count": 59,
   "metadata": {},
   "outputs": [],
   "source": [
    "# Write your own code\n",
    "pd.concat([circuits_usa, circuits_spain, circuits_malaysia], keys = [\"usa\", \"spain\", \"malaysia\"])\n"
   ]
  }
 ],
 "metadata": {
  "kernelspec": {
   "display_name": "base",
   "language": "python",
   "name": "python3"
  },
  "language_info": {
   "codemirror_mode": {
    "name": "ipython",
    "version": 3
   },
   "file_extension": ".py",
   "mimetype": "text/x-python",
   "name": "python",
   "nbconvert_exporter": "python",
   "pygments_lexer": "ipython3",
   "version": "3.8.8"
  },
  "orig_nbformat": 4,
  "vscode": {
   "interpreter": {
    "hash": "45fc1f684f6f416f40889115beff3ddf69879b64cf4bfee48cb72a61e9d15d1a"
   }
  }
 },
 "nbformat": 4,
 "nbformat_minor": 2
}
